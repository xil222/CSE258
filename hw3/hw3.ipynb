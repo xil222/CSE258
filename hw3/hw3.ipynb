{
 "cells": [
  {
   "cell_type": "code",
   "execution_count": 1,
   "metadata": {},
   "outputs": [],
   "source": [
    "import gzip\n",
    "from collections import defaultdict\n",
    "\n",
    "def readGz(f):\n",
    "  for l in gzip.open(f):\n",
    "    yield eval(l)\n",
    "\n",
    "\n",
    "### Would-purchase baseline: just rank which businesses are popular and which are not, and return '1' if a business is among the top-ranked\n",
    "\n",
    "\n"
   ]
  },
  {
   "cell_type": "code",
   "execution_count": null,
   "metadata": {},
   "outputs": [],
   "source": []
  },
  {
   "cell_type": "code",
   "execution_count": 2,
   "metadata": {},
   "outputs": [],
   "source": [
    "businessCount = defaultdict(int)\n",
    "totalPurchases = 0\n",
    "\n",
    "for l in readGz(\"train.json.gz\"):\n",
    "  user,business = l['reviewerID'],l['itemID']\n",
    "  businessCount[business] += 1\n",
    "  totalPurchases += 1\n",
    "\n",
    "mostPopular = [(businessCount[x], x) for x in businessCount]\n",
    "mostPopular.sort()\n",
    "mostPopular.reverse()\n",
    "\n",
    "return1 = set()\n",
    "count = 0\n",
    "for ic, i in mostPopular:\n",
    "  count += ic\n",
    "  return1.add(i)\n",
    "  if count > totalPurchases/2: break\n",
    "\n",
    "predictions = open(\"predictions_Purchase.txt\", 'w')\n",
    "for l in open(\"pairs_Purchase.txt\"):\n",
    "  if l.startswith(\"reviewerID\"):\n",
    "    #header\n",
    "    predictions.write(l)\n",
    "    continue\n",
    "  u,i = l.strip().split('-')\n",
    "  if i in return1:\n",
    "    predictions.write(u + '-' + i + \",1\\n\")\n",
    "  else:\n",
    "    predictions.write(u + '-' + i + \",0\\n\")\n",
    "\n",
    "predictions.close()\n"
   ]
  },
  {
   "cell_type": "code",
   "execution_count": 3,
   "metadata": {},
   "outputs": [],
   "source": [
    "#part1\n",
    "businessCountTrain = defaultdict(int)\n",
    "businessCountVal = defaultdict(int)\n",
    "totalPurchases = 0\n",
    "userSet = {}\n",
    "itemSet = {}\n",
    "businessCount = defaultdict(int)\n",
    "for l in readGz(\"train.json.gz\"):\n",
    "    if totalPurchases < 100000:\n",
    "        userTrain,business = l['reviewerID'],l['itemID']\n",
    "        businessCountTrain[business] += 1\n",
    "    else:\n",
    "        userVal,business = l['reviewerID'],l['itemID']\n",
    "        businessCountVal[business] += 1 \n",
    "    totalPurchases += 1"
   ]
  },
  {
   "cell_type": "code",
   "execution_count": 4,
   "metadata": {},
   "outputs": [
    {
     "name": "stdout",
     "output_type": "stream",
     "text": [
      "sort done\n",
      "110000\n",
      "120000\n",
      "130000\n",
      "140000\n",
      "150000\n",
      "160000\n",
      "170000\n",
      "180000\n",
      "190000\n",
      "200000\n",
      "val set done\n",
      "0.629145\n"
     ]
    }
   ],
   "source": [
    "import random\n",
    "\n",
    "userPurchase = defaultdict(list)\n",
    "userSet = set()\n",
    "itemSet = set()\n",
    "businessCount = defaultdict(int)\n",
    "valUser = []\n",
    "valItem = []\n",
    "\n",
    "totalPurchases = 0\n",
    "for l in readGz(\"train.json.gz\"):\n",
    "    user,business = l['reviewerID'],l['itemID']\n",
    "    userSet.add(user)\n",
    "    itemSet.add(business)\n",
    "    userPurchase[user].append(business)\n",
    "    if totalPurchases < 100000:\n",
    "        businessCount[business] += 1\n",
    "    else:\n",
    "        valUser.append(l['reviewerID'])\n",
    "        valItem.append(l['itemID'])\n",
    "    totalPurchases += 1\n",
    "    \n",
    "mostPopular = [(businessCount[x], x) for x in businessCount]\n",
    "mostPopular.sort()\n",
    "mostPopular.reverse()    \n",
    "\n",
    "print(\"sort done\")\n",
    "\n",
    "return1 = set()\n",
    "count = 0\n",
    "for ic, i in mostPopular:\n",
    "  count += ic\n",
    "  return1.add(i)\n",
    "  if count > 50000: break\n",
    "    \n",
    "while(len(valUser) < 200000):\n",
    "    newUser = random.sample(userSet,1)\n",
    "    newItem = random.sample(itemSet,1)\n",
    "    if newItem[0] not in userPurchase[newUser[0]]:\n",
    "        valUser.append(newUser[0])\n",
    "        valItem.append(newItem[0])\n",
    "    if (len(valUser) % 10000 == 0) :\n",
    "        print(len(valUser))\n",
    "    \n",
    "print(\"val set done\")\n",
    "\n",
    "count = 0\n",
    "for i in range(len(valItem)):\n",
    "    if i < 100000:\n",
    "        if valItem[i] in return1:\n",
    "            count += 1\n",
    "    else:\n",
    "        if valItem[i] not in return1:\n",
    "            count += 1\n",
    "print(count*1.0/200000)\n",
    "    "
   ]
  },
  {
   "cell_type": "code",
   "execution_count": 26,
   "metadata": {},
   "outputs": [
    {
     "name": "stdout",
     "output_type": "stream",
     "text": [
      "5144\n"
     ]
    },
    {
     "data": {
      "image/png": "[encoded data removed]",
      "text/plain": [
       "<Figure size 432x288 with 1 Axes>"
      ]
     },
     "metadata": {},
     "output_type": "display_data"
    },
    {
     "name": "stdout",
     "output_type": "stream",
     "text": [
      "58823\n"
     ]
    }
   ],
   "source": [
    "import matplotlib.pyplot as plt\n",
    "\n",
    "cnts = []\n",
    "digit = []\n",
    "avg = []\n",
    "avgCount = 100000/len(mostPopular)\n",
    "totalCount = 0\n",
    "\n",
    "for i in range(len(mostPopular)):\n",
    "    cnts.append(mostPopular[i][0])\n",
    "    digit.append(i+1)\n",
    "    avg.append(avgCount)\n",
    "    totalCount += mostPopular[i][0]\n",
    "    if (mostPopular[i][0] -1 < avgCount and mostPopular[i+1][0] < avgCount):\n",
    "        print(i)\n",
    "        break\n",
    "\n",
    "plt.plot(digit,cnts)\n",
    "plt.plot(digit,avg)\n",
    "plt.show()\n",
    "print(totalCount)"
   ]
  },
  {
   "cell_type": "code",
   "execution_count": 28,
   "metadata": {},
   "outputs": [
    {
     "name": "stdout",
     "output_type": "stream",
     "text": [
      "0.629875\n"
     ]
    }
   ],
   "source": [
    "#2\n",
    "\n",
    "return1 = set()\n",
    "count = 0\n",
    "for ic, i in mostPopular:\n",
    "  count += ic\n",
    "  return1.add(i)\n",
    "  if count > 53000: break\n",
    "    \n",
    "count = 0\n",
    "for i in range(len(valItem)):\n",
    "    if i < 100000:\n",
    "        if valItem[i] in return1:\n",
    "            count += 1\n",
    "    else:\n",
    "        if valItem[i] not in return1:\n",
    "            count += 1\n",
    "print(count*1.0/200000)"
   ]
  },
  {
   "cell_type": "code",
   "execution_count": 11,
   "metadata": {},
   "outputs": [
    {
     "data": {
      "text/plain": [
       "4025"
      ]
     },
     "execution_count": 11,
     "metadata": {},
     "output_type": "execute_result"
    }
   ],
   "source": [
    "len(return1)"
   ]
  },
  {
   "cell_type": "code",
   "execution_count": 12,
   "metadata": {},
   "outputs": [],
   "source": [
    "#3\n",
    "# map categories to items\n",
    "# in training set, \n",
    "# userCate, key: userID, value:\n",
    "userCate = defaultdict(set)\n",
    "#item, id --> \n",
    "#test\n",
    "# item --> categories, one is this user, then ok\n",
    "itemCate = defaultdict(set)\n",
    "i = 0\n",
    "#key, user, value list of items bought more than once\n",
    "for l in readGz(\"train.json.gz\"):\n",
    "    if i < 100000: \n",
    "        user,category,item = l['reviewerID'],l['categories'],l['itemID']\n",
    "        for feature in category:\n",
    "            userCate[user].add(tuple(feature))\n",
    "            itemCate[item].add(tuple(feature))\n",
    "        i += 1\n",
    "    else:\n",
    "        break\n"
   ]
  },
  {
   "cell_type": "code",
   "execution_count": null,
   "metadata": {},
   "outputs": [],
   "source": []
  },
  {
   "cell_type": "code",
   "execution_count": 18,
   "metadata": {},
   "outputs": [
    {
     "name": "stdout",
     "output_type": "stream",
     "text": [
      "accuracy =  0.59328\n"
     ]
    }
   ],
   "source": [
    "count = 0\n",
    "for i in range(100000):\n",
    "    for feature in itemCate[valItem[i]]: \n",
    "        if feature in userCate[valUser[i]]:\n",
    "            count += 1\n",
    "            break\n",
    "            \n",
    "# print(count)\n",
    "for i in range(100000,200000):\n",
    "    flag = 1\n",
    "    for feature in itemCate[valItem[i]]:\n",
    "        if feature in userCate[valUser[i]]:\n",
    "            flag = 0\n",
    "    if flag:\n",
    "        count += 1\n",
    "\n",
    "print(\"accuracy = \", count * 1.0 / 200000) #this doesnt count because valItem, valUser"
   ]
  },
  {
   "cell_type": "code",
   "execution_count": null,
   "metadata": {},
   "outputs": [],
   "source": [
    "for item in itemCate['I402344648']:\n",
    "    print(item)\n",
    "    print(1)"
   ]
  },
  {
   "cell_type": "code",
   "execution_count": null,
   "metadata": {},
   "outputs": [],
   "source": [
    "len(userCate)"
   ]
  },
  {
   "cell_type": "code",
   "execution_count": 51,
   "metadata": {},
   "outputs": [],
   "source": [
    "predictions = open(\"result.csv\", 'w')\n",
    "for l in open(\"pairs_Purchase.txt\"):\n",
    "    flag = 1\n",
    "    if l.startswith(\"reviewerID\"):\n",
    "    #header\n",
    "        predictions.write(l)\n",
    "        continue\n",
    "    u,i = l.strip().split('-')\n",
    "    for feature in itemCate[i]:\n",
    "        if feature in userCate[u]:\n",
    "            predictions.write(u + '-' + i + \",1\\n\")\n",
    "            flag = 0\n",
    "            break\n",
    "    if flag:\n",
    "        predictions.write(u + '-' + i + \",0\\n\")\n",
    "\n",
    "predictions.close()\n",
    "\n"
   ]
  },
  {
   "cell_type": "code",
   "execution_count": null,
   "metadata": {},
   "outputs": [],
   "source": []
  },
  {
   "cell_type": "code",
   "execution_count": 2,
   "metadata": {},
   "outputs": [],
   "source": [
    "userRatings = defaultdict(list)\n",
    "i = 0\n",
    "\n",
    "reviewer = []\n",
    "rate = []\n",
    "valItem = []\n",
    "allRatings = []\n",
    "\n",
    "#take first 100000 data as the training set\n",
    "for l in readGz(\"train.json.gz\"):\n",
    "    user,business,score = l['reviewerID'],l['itemID'],l['rating'] \n",
    "    if i < 100000:\n",
    "        allRatings.append(score)\n",
    "        userRatings[user].append(score)\n",
    "    else:\n",
    "        reviewer.append(user)\n",
    "        rate.append(score)\n",
    "        valItem.append(business)\n",
    "        \n",
    "    i += 1\n",
    "\n",
    "globalAverage = sum(allRatings) / len(allRatings)\n",
    "userAverage = {}\n",
    "for u in userRatings:\n",
    "    userAverage[u] = sum(userRatings[u]) / len(userRatings[u])\n",
    "\n",
    "#we use the MSE to evaluate the performance of the validation set\n",
    "error = 0\n",
    "for i in range(len(reviewer)):\n",
    "    if reviewer[i] in userRatings:\n",
    "        error += (rate[i] - userAverage[reviewer[i]])**2 * 1.0 / 100000\n",
    "    else:\n",
    "        error += (rate[i] - globalAverage)**2 * 1.0 / 100000"
   ]
  },
  {
   "cell_type": "code",
   "execution_count": 3,
   "metadata": {},
   "outputs": [
    {
     "name": "stdout",
     "output_type": "stream",
     "text": [
      "error 1.4976080782956405\n",
      "globalAvg 4.232\n"
     ]
    }
   ],
   "source": [
    "print(\"error\",error)\n",
    "print(\"globalAvg\",globalAverage)\n"
   ]
  },
  {
   "cell_type": "code",
   "execution_count": 4,
   "metadata": {},
   "outputs": [],
   "source": [
    "#6 \n",
    "\n",
    "#initialization\n",
    "alpha = 0\n",
    "setI = defaultdict(set)\n",
    "setU = defaultdict(set)\n",
    "betaI = defaultdict(float)\n",
    "betaU = defaultdict(float)\n",
    "RUI = defaultdict(float)\n",
    "userRatings = defaultdict(list)\n",
    "lamb = 1\n",
    "i = 0\n",
    "allRatings = []\n",
    "\n",
    "userID = []\n",
    "itemID = []\n",
    "for l in readGz(\"train.json.gz\"):\n",
    "    user, item = l['reviewerID'],l['itemID']\n",
    "    score = l['rating']\n",
    "    if i < 100000:\n",
    "        userRatings[user].append(score)\n",
    "        allRatings.append(score)\n",
    "        itemID.append(item)\n",
    "        userID.append(user)\n",
    "        RUI[(user,item)] = score\n",
    "        setI[item].add(user) #item to all related users\n",
    "        setU[user].add(item) #user to all related items\n",
    "        betaI[item] = 0\n",
    "        betaU[user] = 0\n",
    "    else:\n",
    "        break\n",
    "    i += 1    \n",
    "    "
   ]
  },
  {
   "cell_type": "code",
   "execution_count": 5,
   "metadata": {},
   "outputs": [
    {
     "name": "stdout",
     "output_type": "stream",
     "text": [
      "alpha4.232\n",
      "pre19.13873999999818\n",
      "error0.5488708401393503\n",
      "alpha4.231707482679162\n",
      "pre0.5488708401393503\n",
      "error0.5198608575784793\n",
      "alpha4.23136608138603\n",
      "pre0.5198608575784793\n",
      "error0.5152086793402938\n"
     ]
    }
   ],
   "source": [
    "preError = 100\n",
    "error = 0\n",
    "for i in range(len(userID)):\n",
    "    error += (allRatings[i] - alpha - betaU[userID[i]] - betaI[itemID[i]]) ** 2 / 100000\n",
    "    \n",
    "while (abs(preError - error) > 0.01):\n",
    "    preError = error\n",
    "    \n",
    "    totalSum = 0\n",
    "    for key in RUI:\n",
    "        totalSum += (RUI[key] - betaU[key[0]] - betaI[key[1]])\n",
    "    alpha = totalSum/100000\n",
    "\n",
    "    for key in setU: #user\n",
    "        totalSum = 0\n",
    "        for item in setU[key]: #item \n",
    "            totalSum += (RUI[(key,item)] - alpha - betaI[item])\n",
    "        betaU[key] = totalSum/(lamb + len(setU[key]))\n",
    "\n",
    "    for key in setI: #item\n",
    "        totalSum = 0\n",
    "        for user in setI[key]: #user \n",
    "            totalSum += (RUI[(user,key)] - alpha - betaU[user])\n",
    "        betaI[key] = totalSum/(lamb + len(setI[key]))\n",
    "    \n",
    "    error = 0\n",
    "    for i in range(len(userID)):\n",
    "        error += (allRatings[i] - alpha - betaU[userID[i]] - betaI[itemID[i]]) ** 2 / 100000\n",
    "        \n",
    "    print(\"alpha\"+str(alpha))\n",
    "    print(\"pre\"+ str(preError))\n",
    "    print(\"error\"+ str(error))"
   ]
  },
  {
   "cell_type": "code",
   "execution_count": 11,
   "metadata": {},
   "outputs": [
    {
     "data": {
      "text/plain": [
       "4.23136608138603"
      ]
     },
     "execution_count": 11,
     "metadata": {},
     "output_type": "execute_result"
    }
   ],
   "source": []
  },
  {
   "cell_type": "code",
   "execution_count": 7,
   "metadata": {},
   "outputs": [
    {
     "data": {
      "text/plain": [
       "0.5198608575784793"
      ]
     },
     "execution_count": 7,
     "metadata": {},
     "output_type": "execute_result"
    }
   ],
   "source": [
    "preError"
   ]
  },
  {
   "cell_type": "code",
   "execution_count": 8,
   "metadata": {},
   "outputs": [
    {
     "name": "stdout",
     "output_type": "stream",
     "text": [
      "maxIDI809804570\n",
      "minIDI511389419\n",
      "maxUserU605818049\n",
      "minUserU030961757\n"
     ]
    }
   ],
   "source": [
    "#7\n",
    "maxBi = -10000\n",
    "maxBu = -10000\n",
    "minBi = 10000\n",
    "minBu = 10000\n",
    "\n",
    "for item in betaI:\n",
    "    if maxBi < betaI[item]:\n",
    "        maxBi = betaI[item]\n",
    "        maxID = item\n",
    "    \n",
    "    if minBi > betaI[item]:\n",
    "        minBi = betaI[item]\n",
    "        minID = item\n",
    "    \n",
    "for item in betaU:\n",
    "    if maxBu < betaU[item]:\n",
    "        maxBu = betaU[item]\n",
    "        maxUser = item\n",
    "    \n",
    "    if minBu > betaU[item]:\n",
    "        minBu = betaU[item]\n",
    "        minUser = item\n",
    "    \n",
    "print('maxID' + maxID)\n",
    "print('minID' + minID)\n",
    "print('maxUser' + maxUser)\n",
    "print('minUser' + minUser)"
   ]
  },
  {
   "cell_type": "code",
   "execution_count": null,
   "metadata": {},
   "outputs": [],
   "source": []
  },
  {
   "cell_type": "code",
   "execution_count": 9,
   "metadata": {},
   "outputs": [
    {
     "name": "stdout",
     "output_type": "stream",
     "text": [
      "mse 1.273523799210286\n"
     ]
    }
   ],
   "source": [
    "error = 0\n",
    "for i in range(len(reviewer)):\n",
    "    if reviewer[i] in userRatings:\n",
    "        error += (rate[i] - alpha - betaU[reviewer[i]] - betaI[valItem[i]])**2 * 1.0 / 100000\n",
    "    else:\n",
    "        error += (rate[i] - alpha)**2 * 1.0 / 100000\n",
    "        \n",
    "print(\"mse\", error)"
   ]
  },
  {
   "cell_type": "code",
   "execution_count": 10,
   "metadata": {},
   "outputs": [],
   "source": [
    "predictions = open(\"rating.csv\", 'w')\n",
    "for l in open(\"pairs_Rating.txt\"):\n",
    "    if l.startswith(\"reviewerID\"):\n",
    "        predictions.write(l)\n",
    "        continue\n",
    "    u,i = l.strip().split('-')    \n",
    "    if u in userRatings:\n",
    "        predictions.write(u + '-' + i + ',' + str(alpha + betaU[u] + betaI[i]) + '\\n')\n",
    "    else:\n",
    "        predictions.write(u + '-' + i + ',' + str(alpha) + '\\n')\n",
    "        \n",
    "predictions.close()"
   ]
  },
  {
   "cell_type": "code",
   "execution_count": null,
   "metadata": {},
   "outputs": [],
   "source": []
  },
  {
   "cell_type": "code",
   "execution_count": null,
   "metadata": {},
   "outputs": [],
   "source": []
  },
  {
   "cell_type": "code",
   "execution_count": null,
   "metadata": {},
   "outputs": [],
   "source": []
  },
  {
   "cell_type": "code",
   "execution_count": null,
   "metadata": {},
   "outputs": [],
   "source": []
  },
  {
   "cell_type": "code",
   "execution_count": null,
   "metadata": {},
   "outputs": [],
   "source": []
  }
 ],
 "metadata": {
  "kernelspec": {
   "display_name": "Python 3",
   "language": "python",
   "name": "python3"
  },
  "language_info": {
   "codemirror_mode": {
    "name": "ipython",
    "version": 3
   },
   "file_extension": ".py",
   "mimetype": "text/x-python",
   "name": "python",
   "nbconvert_exporter": "python",
   "pygments_lexer": "ipython3",
   "version": "3.6.0"
  }
 },
 "nbformat": 4,
 "nbformat_minor": 2
}
